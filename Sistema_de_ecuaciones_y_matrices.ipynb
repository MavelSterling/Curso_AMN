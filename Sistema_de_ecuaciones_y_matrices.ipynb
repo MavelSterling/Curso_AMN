{
  "nbformat": 4,
  "nbformat_minor": 0,
  "metadata": {
    "colab": {
      "provenance": [],
      "authorship_tag": "ABX9TyNCWFLE9fgg5ncbDKzcH8Ye"
    },
    "kernelspec": {
      "name": "python3",
      "display_name": "Python 3"
    },
    "language_info": {
      "name": "python"
    }
  },
  "cells": [
    {
      "cell_type": "code",
      "execution_count": null,
      "metadata": {
        "colab": {
          "base_uri": "https://localhost:8080/"
        },
        "id": "HvjA-SJDBmUf",
        "outputId": "452e2744-2103-4172-92ef-752ecff02fdb"
      },
      "outputs": [
        {
          "output_type": "stream",
          "name": "stdout",
          "text": [
            "[[-2 -3  2  3]\n",
            " [-4 -6  6  6]\n",
            " [-2  0  4  6]\n",
            " [ 4  3 -8 -6]]\n",
            "[[ 10]\n",
            " [ 20]\n",
            " [ 10]\n",
            " [-17]]\n"
          ]
        }
      ],
      "source": [
        "import numpy as np\n",
        "\n",
        "A = np.array([[-2,-3,2,3],\n",
        "              [-4,-6,6,6],\n",
        "              [-2,0,4,6],\n",
        "              [4,3,-8,-6]])\n",
        "\n",
        "b = np.array([[10],\n",
        "              [20],\n",
        "              [10],\n",
        "              [-17]])\n",
        "\n",
        "\n",
        "print(A)\n",
        "print(b)"
      ]
    },
    {
      "cell_type": "code",
      "source": [
        "b1 = b.astype(float)\n",
        "print(b1)"
      ],
      "metadata": {
        "colab": {
          "base_uri": "https://localhost:8080/"
        },
        "id": "LTsOtK8oCrD5",
        "outputId": "adb8a490-921a-4040-c4ce-11e113ddde31"
      },
      "execution_count": null,
      "outputs": [
        {
          "output_type": "stream",
          "name": "stdout",
          "text": [
            "[[ 10.]\n",
            " [ 20.]\n",
            " [ 10.]\n",
            " [-17.]]\n"
          ]
        }
      ]
    },
    {
      "cell_type": "code",
      "source": [
        "MA = np.concatenate((A,b),axis=1)\n",
        "print(MA)"
      ],
      "metadata": {
        "colab": {
          "base_uri": "https://localhost:8080/"
        },
        "id": "5POyIpJTCzGI",
        "outputId": "c46f5ebd-8433-4eeb-e90f-5bb500b97aff"
      },
      "execution_count": null,
      "outputs": [
        {
          "output_type": "stream",
          "name": "stdout",
          "text": [
            "[[ -2  -3   2   3  10]\n",
            " [ -4  -6   6   6  20]\n",
            " [ -2   0   4   6  10]\n",
            " [  4   3  -8  -6 -17]]\n"
          ]
        }
      ]
    },
    {
      "cell_type": "code",
      "source": [
        "print(A[1,2])"
      ],
      "metadata": {
        "colab": {
          "base_uri": "https://localhost:8080/"
        },
        "id": "7dAqlYg8C8dK",
        "outputId": "11070d19-7f5c-4a1e-c611-547d14e64881"
      },
      "execution_count": null,
      "outputs": [
        {
          "output_type": "stream",
          "name": "stdout",
          "text": [
            "6\n"
          ]
        }
      ]
    },
    {
      "cell_type": "code",
      "source": [
        "U = MA[:,0:-1]\n",
        "print(U)"
      ],
      "metadata": {
        "colab": {
          "base_uri": "https://localhost:8080/"
        },
        "id": "j9jyMNKWDJF1",
        "outputId": "a5d94134-d615-4eba-dee9-631be3827706"
      },
      "execution_count": null,
      "outputs": [
        {
          "output_type": "stream",
          "name": "stdout",
          "text": [
            "[[-2 -3  2  3]\n",
            " [-4 -6  6  6]\n",
            " [-2  0  4  6]\n",
            " [ 4  3 -8 -6]]\n"
          ]
        }
      ]
    },
    {
      "cell_type": "code",
      "source": [
        "d = MA[:,-1]\n",
        "print(d)"
      ],
      "metadata": {
        "colab": {
          "base_uri": "https://localhost:8080/"
        },
        "id": "hMLfn5B9DWxN",
        "outputId": "4569e6b2-fbb5-4e64-a311-c44f1e97288a"
      },
      "execution_count": null,
      "outputs": [
        {
          "output_type": "stream",
          "name": "stdout",
          "text": [
            "[ 10  20  10 -17]\n"
          ]
        }
      ]
    },
    {
      "cell_type": "code",
      "source": [
        "import numpy as np\n",
        "\n",
        "def pos_def(A):\n",
        "  return np.all(np.linalg.eigvals(A) > 0)\n",
        "\n",
        "\n",
        "A = np.array([[2,0,0],\n",
        "              [1,1,2],\n",
        "              [1,-1,4]])\n",
        "\n",
        "print(pos_def(A))"
      ],
      "metadata": {
        "colab": {
          "base_uri": "https://localhost:8080/"
        },
        "id": "phCYq-9UD3Fn",
        "outputId": "99c0c2e8-4deb-4fa6-e8cd-10a3a908ff6e"
      },
      "execution_count": null,
      "outputs": [
        {
          "output_type": "stream",
          "name": "stdout",
          "text": [
            "True\n"
          ]
        }
      ]
    },
    {
      "cell_type": "code",
      "source": [
        "import numpy as np\n",
        "\n",
        "def diag_dominante(X):\n",
        "  D = np.diag(np.abs(X))\n",
        "  S = np.sum(np.abs(X), axis = 1) - D\n",
        "  if np.all(D > S):\n",
        "    print('Es una matriz diagonal dominante')\n",
        "  else:\n",
        "    print('No es diagonal domminante')\n",
        "\n",
        "A = np.array([[12,-3,2,3],\n",
        "              [-1,-16,6,6],\n",
        "              [-2,0,14,6],\n",
        "              [4,3,-1,-16]])\n",
        "\n",
        "print('Diagonal de la matrix A', np.diag(A))\n",
        "diag_dominante(A)"
      ],
      "metadata": {
        "colab": {
          "base_uri": "https://localhost:8080/"
        },
        "id": "tWJvFABDFbEx",
        "outputId": "5015f1b2-4635-4539-a035-3efcdea0989d"
      },
      "execution_count": null,
      "outputs": [
        {
          "output_type": "stream",
          "name": "stdout",
          "text": [
            "Diagonal de la matrix A [ 12 -16  14 -16]\n",
            "Es una matriz diagonal dominante\n"
          ]
        }
      ]
    },
    {
      "cell_type": "code",
      "source": [
        "A0 = np.array([[10,7,8,7],\n",
        "              [7,5,6,5],\n",
        "              [8,6,10,9],\n",
        "              [7,5,9,10]])\n",
        "\n",
        "y = np.array([[32],\n",
        "              [23],\n",
        "              [33],\n",
        "              [31]])\n",
        "\n",
        "x = np.linalg.solve(A0,y)\n",
        "\n",
        "print(x)\n",
        "print(np.linalg.cond(A0, p=1))\n",
        "print(np.linalg.cond(A0, p=2))\n",
        "print(np.linalg.cond(A0, p=np.inf))"
      ],
      "metadata": {
        "colab": {
          "base_uri": "https://localhost:8080/"
        },
        "id": "-5VOYozYKQZh",
        "outputId": "361f71cb-855a-4234-acb4-8272d7e3d14c"
      },
      "execution_count": null,
      "outputs": [
        {
          "output_type": "stream",
          "name": "stdout",
          "text": [
            "[[1.]\n",
            " [1.]\n",
            " [1.]\n",
            " [1.]]\n",
            "4488.000000000057\n",
            "2984.0927016757555\n",
            "4488.000000000056\n"
          ]
        }
      ]
    }
  ]
}