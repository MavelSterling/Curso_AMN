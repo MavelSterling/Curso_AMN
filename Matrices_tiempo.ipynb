{
  "nbformat": 4,
  "nbformat_minor": 0,
  "metadata": {
    "colab": {
      "provenance": [],
      "authorship_tag": "ABX9TyOKO77zwGnsqkgrustfdGvZ"
    },
    "kernelspec": {
      "name": "python3",
      "display_name": "Python 3"
    },
    "language_info": {
      "name": "python"
    }
  },
  "cells": [
    {
      "cell_type": "code",
      "execution_count": null,
      "metadata": {
        "id": "6IBX8mZnTitQ"
      },
      "outputs": [],
      "source": [
        "import time\n",
        "\n",
        "def multiplicar_matrices(matriz1, matriz2):\n",
        "    # Verificar si las matrices son multiplicables\n",
        "    if len(matriz1[0]) != len(matriz2):\n",
        "        return None\n",
        "\n",
        "    # Crear matriz de resultados\n",
        "    resultado = []\n",
        "    for i in range(len(matriz1)):\n",
        "        fila = []\n",
        "        for j in range(len(matriz2[0])):\n",
        "            fila.append(0)\n",
        "        resultado.append(fila)\n",
        "\n",
        "    # Realizar multiplicación de matrices\n",
        "    inicio = time.time() # Tomar tiempo de inicio\n",
        "    for i in range(len(matriz1)):\n",
        "        for j in range(len(matriz2[0])):\n",
        "            for k in range(len(matriz2)):\n",
        "                resultado[i][j] += matriz1[i][k] * matriz2[k][j]\n",
        "    fin = time.time() # Tomar tiempo de fin\n",
        "    print(\"Tiempo de ejecución:\", fin - inicio, \"segundos\") # Imprimir tiempo de ejecución\n",
        "\n",
        "    return resultado"
      ]
    },
    {
      "cell_type": "code",
      "source": [
        "import numpy as np\n",
        "a= np.array([[1,2,1,-1,0,1],\\\n",
        "             [-1,1,1,0,-1,1],\\\n",
        "             [0,1,-1,1,0,1],\\\n",
        "             [1,-1,0,0,1,0],\\\n",
        "             [1,0,1,2,1,0]])\n",
        "\n",
        "b=np.array([[1,0,1,2,1],\\\n",
        "            [-1,1,2,0,1],\\\n",
        "            [1,0,1,1,2],\\\n",
        "            [-1,1,0,0,1],\\\n",
        "            [2,1,0,-2,1],\\\n",
        "            [0,1,1,-1,1]])"
      ],
      "metadata": {
        "id": "mY9OV5RzTtRc"
      },
      "execution_count": null,
      "outputs": []
    },
    {
      "cell_type": "code",
      "source": [
        "resultado1 = multiplicar_matrices(a, b)\n",
        "# Imprimir el resultado\n",
        "for fila in resultado1:\n",
        "    print(fila)"
      ],
      "metadata": {
        "id": "G9f7aevRTz7H",
        "outputId": "3b83945e-865b-4c3c-c57b-f5b17c95a620",
        "colab": {
          "base_uri": "https://localhost:8080/"
        }
      },
      "execution_count": null,
      "outputs": [
        {
          "output_type": "stream",
          "name": "stdout",
          "text": [
            "Tiempo de ejecución: 0.000171661376953125 segundos\n",
            "[1, 2, 7, 2, 5]\n",
            "[-3, 1, 3, 0, 2]\n",
            "[-3, 3, 2, -2, 1]\n",
            "[4, 0, -1, 0, 1]\n",
            "[2, 3, 2, 1, 6]\n"
          ]
        }
      ]
    },
    {
      "cell_type": "code",
      "source": [
        "# Definir dos matrices\n",
        "matriz1 = [[1, 2], [3, 4], [5, 6]]\n",
        "matriz2 = [[7, 8, 9], [10, 11, 12]]\n",
        "\n",
        "print(\"Matriz 1\",matriz1)\n",
        "print(\"Matriz 2:\",matriz2)\n",
        "# Multiplicar las dos matrices\n",
        "resultado = multiplicar_matrices(matriz1, matriz2)\n",
        "# Imprimir el resultado\n",
        "for fila in resultado:\n",
        "    print(fila)"
      ],
      "metadata": {
        "colab": {
          "base_uri": "https://localhost:8080/"
        },
        "id": "WryYijFTTw6g",
        "outputId": "90abb463-f640-48ae-8b09-7a40f69fab93"
      },
      "execution_count": null,
      "outputs": [
        {
          "output_type": "stream",
          "name": "stdout",
          "text": [
            "Matriz 1 [[1, 2], [3, 4], [5, 6]]\n",
            "Matriz 2: [[7, 8, 9], [10, 11, 12]]\n",
            "Tiempo de ejecución: 1.2159347534179688e-05 segundos\n",
            "[27, 30, 33]\n",
            "[61, 68, 75]\n",
            "[95, 106, 117]\n"
          ]
        }
      ]
    }
  ]
}