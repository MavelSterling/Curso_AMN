{
  "nbformat": 4,
  "nbformat_minor": 0,
  "metadata": {
    "colab": {
      "provenance": [],
      "authorship_tag": "ABX9TyPums36wlkWfbM0NCaKjDoa"
    },
    "kernelspec": {
      "name": "python3",
      "display_name": "Python 3"
    },
    "language_info": {
      "name": "python"
    }
  },
  "cells": [
    {
      "cell_type": "code",
      "execution_count": null,
      "metadata": {
        "colab": {
          "base_uri": "https://localhost:8080/"
        },
        "id": "4oZj-vYm7eFS",
        "outputId": "107a45cb-b066-4679-8875-eaa23bda5977"
      },
      "outputs": [
        {
          "output_type": "stream",
          "name": "stdout",
          "text": [
            "Taylor:        x**3/16 - x**2/8 + x/2 + 1\n",
            "xi             0.5\n",
            "estimado:       1.22656250000000\n",
            "real:           1.22474487139159\n",
            "error real:     0.00181762860841106\n"
          ]
        }
      ],
      "source": [
        "import numpy as np\n",
        "import sympy as sym\n",
        "\n",
        "def polinomioTaylor(fx,x_0,n):\n",
        "  k=0\n",
        "  polinomio = 0\n",
        "  while (k <= n):\n",
        "    derivada = fx.diff(x,k)\n",
        "    derivada_x0 = derivada.subs(x,x_0)\n",
        "    divisor = np.math.factorial(k)\n",
        "    termino_k = (derivada_x0/divisor)*(x-x_0)**k\n",
        "    polinomio = polinomio + termino_k\n",
        "    k = k + 1\n",
        "  return(polinomio)\n",
        "\n",
        "x = sym.Symbol('x')\n",
        "fx = sym.sqrt(x+1)\n",
        "\n",
        "x_0 = 0\n",
        "xi = 0.5 # donde se evalua el polinomio\n",
        "n = 3\n",
        "\n",
        "# valor, f(xi) real\n",
        "fxi = fx.subs(x,xi)\n",
        "\n",
        "# Valor aproximado con Taylor\n",
        "polinomio = polinomioTaylor(fx,x_0,n)\n",
        "pxi = polinomio.subs(x,xi)\n",
        "error_real = np.abs(fxi - pxi)\n",
        "\n",
        "print('Taylor:       ', polinomio)\n",
        "print('xi            ', xi)\n",
        "print('estimado:      ', pxi)\n",
        "print('real:          ', fxi)\n",
        "print('error real:    ', error_real)\n"
      ]
    }
  ]
}